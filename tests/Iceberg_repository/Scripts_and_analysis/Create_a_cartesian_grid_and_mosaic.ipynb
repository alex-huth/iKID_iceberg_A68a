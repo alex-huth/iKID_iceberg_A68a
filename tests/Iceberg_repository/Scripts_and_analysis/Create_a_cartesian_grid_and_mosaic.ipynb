{
 "metadata": {
  "name": "",
  "signature": "sha256:d2ef6bae770b9c56ac62500a0a35fe92d46b49ffb6124a589b7173e88a66994f"
 },
 "nbformat": 3,
 "nbformat_minor": 0,
 "worksheets": [
  {
   "cells": [
    {
     "cell_type": "code",
     "collapsed": false,
     "input": [
      "import scipy.io.netcdf\n",
      "import numpy\n",
      "%pylab inline"
     ],
     "language": "python",
     "metadata": {},
     "outputs": [
      {
       "output_type": "stream",
       "stream": "stdout",
       "text": [
        "Populating the interactive namespace from numpy and matplotlib\n"
       ]
      }
     ],
     "prompt_number": 1
    },
    {
     "cell_type": "markdown",
     "metadata": {},
     "source": [
      "Model grid will have ni x nj h-point grid cells"
     ]
    },
    {
     "cell_type": "code",
     "collapsed": false,
     "input": [
      "nj,ni = 40,240"
     ],
     "language": "python",
     "metadata": {},
     "outputs": [],
     "prompt_number": 2
    },
    {
     "cell_type": "markdown",
     "metadata": {},
     "source": [
      "A mosaic file has a supergrid of an integer refinement (e.g. 2*ni x 2*nj cells)"
     ]
    },
    {
     "cell_type": "code",
     "collapsed": false,
     "input": [
      "snj, sni = 2*nj, 2*ni"
     ],
     "language": "python",
     "metadata": {},
     "outputs": [],
     "prompt_number": 3
    },
    {
     "cell_type": "markdown",
     "metadata": {},
     "source": [
      "Uniform resolution of the ocean model grid will be dxo x dyo"
     ]
    },
    {
     "cell_type": "code",
     "collapsed": false,
     "input": [
      "dxo = 2.e3\n",
      "dyo = 2.e3"
     ],
     "language": "python",
     "metadata": {},
     "outputs": [],
     "prompt_number": 4
    },
    {
     "cell_type": "markdown",
     "metadata": {},
     "source": [
      "Number of land points used nl"
     ]
    },
    {
     "cell_type": "code",
     "collapsed": false,
     "input": [
      "nl=0\n",
      "Ocean_Depth=numpy.zeros((nj,ni))\n",
      "Ocean_Depth[:,:]=1000.\n",
      "#Define land points:\n",
      "#Ocean_Depth[-1,:]=0  ;Ocean_Depth[0,:]=0  #Setting boundaries to zero\n",
      "#Ocean_Depth[:,-1]=0  ;Ocean_Depth[:,0]=0  #Setting boundaries to zero\n",
      "Ocean_Depth[0,0]=0.\n",
      "for j in range(nj):\n",
      "    for i in range(ni):\n",
      "        if Ocean_Depth[j,i]==0:\n",
      "            nl=nl+1"
     ],
     "language": "python",
     "metadata": {},
     "outputs": [],
     "prompt_number": 5
    },
    {
     "cell_type": "markdown",
     "metadata": {},
     "source": [
      "Using a supergrid refinement of 2, the grid lengths, area and coordinates are:"
     ]
    },
    {
     "cell_type": "code",
     "collapsed": false,
     "input": [
      "dx = (0.5 * dxo) * numpy.ones((snj+1,sni))\n",
      "dy = (0.5 * dyo) * numpy.ones((snj,sni+1))\n",
      "area = (0.25 * (dxo * dyo)) * numpy.ones((snj,sni))\n",
      "x = numpy.zeros((snj+1,sni+1))\n",
      "x[:,1:] = numpy.cumsum( dx, axis=-1 )\n",
      "y = numpy.zeros((snj+1,sni+1))\n",
      "y[1:,:] = numpy.cumsum( dy, axis=-2 )"
     ],
     "language": "python",
     "metadata": {},
     "outputs": [],
     "prompt_number": 6
    },
    {
     "cell_type": "code",
     "collapsed": false,
     "input": [
      "# A helper function to use when writing strings in a netcdf file\n",
      "def set_string(variable, value):\n",
      "    \"\"\"Sets \"variable\" to \"value\" padded with blanks where\n",
      "    \"variable\" is a netcdf variable object and \"value\" is a string.\"\"\"\n",
      "    variable[:] = '\\000' * variable.shape[0]\n",
      "    variable[:len(value)] = value"
     ],
     "language": "python",
     "metadata": {},
     "outputs": [],
     "prompt_number": 7
    },
    {
     "cell_type": "markdown",
     "metadata": {},
     "source": [
      "Create a netcdf3 horizontal ocean-grid file..."
     ]
    },
    {
     "cell_type": "code",
     "collapsed": false,
     "input": [
      "rg = scipy.io.netcdf_file('ocean_hgrid.nc','w',version=2)"
     ],
     "language": "python",
     "metadata": {},
     "outputs": [],
     "prompt_number": 8
    },
    {
     "cell_type": "code",
     "collapsed": false,
     "input": [
      "rg.createDimension('nx',sni)\n",
      "rg.createDimension('ny',snj)\n",
      "rg.createDimension('nxp',sni+1)\n",
      "rg.createDimension('nyp',snj+1)\n",
      "rg.createDimension('string',255)"
     ],
     "language": "python",
     "metadata": {},
     "outputs": [],
     "prompt_number": 9
    },
    {
     "cell_type": "code",
     "collapsed": false,
     "input": [
      "dx_h = rg.createVariable('dx','f8',('nyp','nx',))\n",
      "dx_h.units = 'm'\n",
      "dy_h = rg.createVariable('dy','f8',('ny','nxp',))\n",
      "dy_h.units = 'm'\n",
      "area_h = rg.createVariable('area','f8',('ny','nx',))\n",
      "area_h.units = 'm2'\n",
      "x_h = rg.createVariable('x','f8',('nyp','nxp',))\n",
      "x_h.units = 'm'\n",
      "y_h = rg.createVariable('y','f8',('nyp','nxp',))\n",
      "y_h.units = 'm'\n",
      "tile = rg.createVariable('tile','c',('string',))"
     ],
     "language": "python",
     "metadata": {},
     "outputs": [],
     "prompt_number": 10
    },
    {
     "cell_type": "code",
     "collapsed": false,
     "input": [
      "dx_h[:,:] = dx[:,:]\n",
      "dy_h[:,:] = dy[:,:]\n",
      "area_h[:,:] = area[:,:]\n",
      "x_h[:,:] = x[:,:]\n",
      "y_h[:,:] = y[:,:]\n",
      "tile[:] = '\\000' * 255\n",
      "tile[:5] = 'tile1'\n",
      "set_string(tile,'tile1')"
     ],
     "language": "python",
     "metadata": {},
     "outputs": [],
     "prompt_number": 11
    },
    {
     "cell_type": "code",
     "collapsed": false,
     "input": [
      "rg.close()"
     ],
     "language": "python",
     "metadata": {},
     "outputs": [],
     "prompt_number": 12
    },
    {
     "cell_type": "markdown",
     "metadata": {},
     "source": [
      "Create a netcdf3 ocean-mask file..."
     ]
    },
    {
     "cell_type": "code",
     "collapsed": false,
     "input": [
      "rg = scipy.io.netcdf_file('ocean_mask.nc','w',version=2)\n",
      "rg.createDimension('nx',ni)\n",
      "rg.createDimension('ny',nj)\n",
      "mask = rg.createVariable('mask','f4',('ny','nx',))\n",
      "mask[:,:] = 1.\n",
      "rg.close()"
     ],
     "language": "python",
     "metadata": {},
     "outputs": [],
     "prompt_number": 13
    },
    {
     "cell_type": "markdown",
     "metadata": {},
     "source": [
      "Create a mosaic description for the above grid file..."
     ]
    },
    {
     "cell_type": "code",
     "collapsed": false,
     "input": [
      "rg = scipy.io.netcdf_file('ocean_mosaic.nc','w',version=2)\n",
      "rg.createDimension('ntiles',1)\n",
      "rg.createDimension('string',255)\n",
      "mosaic = rg.createVariable('mosaic','c',('string',))\n",
      "mosaic.standard_name = 'grid_mosaic_spec'\n",
      "mosaic.children = 'contacts'\n",
      "mosaic.grid_descriptor = ''\n",
      "gridlocation = rg.createVariable('gridlocation','c',('string',))\n",
      "gridlocation.standard_name = 'grid_file_location'\n",
      "gridfiles = rg.createVariable('gridfiles','c',('ntiles','string',))\n",
      "gridtiles = rg.createVariable('gridtiles','c',('ntiles','string',))\n",
      "rg.grid_version = '0.2'\n",
      "# Fill in data\n",
      "mosaic[:] = '\\000' * 255\n",
      "mosaic[:12] = 'ocean_mosaic'\n",
      "gridlocation[:] = '\\000' * 255\n",
      "gridlocation[:2] = './'\n",
      "gridfiles[:] = '\\000' * 255\n",
      "gridfiles[0,:14] = 'ocean_hgrid.nc'\n",
      "gridtiles[:] = '\\000' * 255\n",
      "gridtiles[0,:5] = 'tile1'\n",
      "rg.close()"
     ],
     "language": "python",
     "metadata": {},
     "outputs": [],
     "prompt_number": 14
    },
    {
     "cell_type": "code",
     "collapsed": false,
     "input": [
      "!pwd"
     ],
     "language": "python",
     "metadata": {},
     "outputs": [
      {
       "output_type": "stream",
       "stream": "stdout",
       "text": [
        "/home/aas/Iceberg_Project/ISOMIP/Create_mosaics\r\n"
       ]
      }
     ],
     "prompt_number": 15
    },
    {
     "cell_type": "code",
     "collapsed": false,
     "input": [
      "# Fake a ocean_topog.nc file\n",
      "rg = scipy.io.netcdf_file('ocean_topog.nc','w',version=2)\n",
      "rg.createDimension('nx',ni)\n",
      "rg.createDimension('ny',nj)\n",
      "rg.createDimension('ntiles',1)\n",
      "depth = rg.createVariable('depth','f4',('ny','nx',))\n",
      "depth[:,:] = 1000.\n",
      "#depth[-1,-1] =0  #One point is being defined as a land point\n",
      "rg.close()"
     ],
     "language": "python",
     "metadata": {},
     "outputs": [],
     "prompt_number": 16
    },
    {
     "cell_type": "code",
     "collapsed": false,
     "input": [
      "rg = scipy.io.netcdf_file('atmos_mosaic_tile1Xland_mosaic_tile1.nc','w',version=2) # atmos_mosaic_tile1Xland_mosaic_tile1.nc\n",
      "rg.createDimension('string',255)\n",
      "rg.createDimension('ncells',nl)  #It is unclear whether this works when nl=0. It does work for nl>0\n",
      "rg.createDimension('two',2)\n",
      "contact = rg.createVariable('contact','c',('string',))\n",
      "contact.standard_name = 'grid_contact_spec'\n",
      "contact.contact_type = 'exchange'\n",
      "contact.parent1_cell = 'tile1_cell'\n",
      "contact.parent2_cell = 'tile2_cell'\n",
      "contact.xgrid_area_field = 'xgrid_area'\n",
      "contact.distant_to_parent1_centroid = 'tile1_distance'\n",
      "contact.distant_to_parent2_centroid = 'tile2_distance'\n",
      "tile1_cell = rg.createVariable('tile1_cell','f8',('ncells','two',))\n",
      "tile1_cell.standard_name = 'parent_cell_indices_in_mosaic1'\n",
      "tile2_cell = rg.createVariable('tile2_cell','f8',('ncells','two',))\n",
      "tile2_cell.standard_name = 'parent_cell_indices_in_mosaic2'\n",
      "xgrid_area = rg.createVariable('xgrid_area','f8',('ncells',))\n",
      "xgrid_area.standard_name = 'exchange_grid_area'\n",
      "xgrid_area.units = 'm2'\n",
      "tile1_distance = rg.createVariable('tile1_distance','f8',('ncells','two'))\n",
      "tile1_distance.standard_name = 'distance_from_parent1_cell_centroid'\n",
      "tile2_distance = rg.createVariable('tile2_distance','f8',('ncells','two'))\n",
      "tile2_distance.standard_name = 'distance_from_parent2_cell_centroid'\n",
      "rg.grid_version = '0.2'\n",
      "# Fill in data\n",
      "contact[:] = '\\000' * 255\n",
      "contact[:37] = 'atmos_mosaic:tile1::land_mosaic:tile1'\n",
      "tile1_cell[:] = [ni,nj]\n",
      "tile2_cell[:] = [ni,nj]\n",
      "xgrid_area[:] = dxo * dyo\n",
      "tile1_distance[:] = 0.\n",
      "tile2_distance[:] = 0.\n",
      "rg.close()"
     ],
     "language": "python",
     "metadata": {},
     "outputs": [],
     "prompt_number": 17
    },
    {
     "cell_type": "code",
     "collapsed": false,
     "input": [
      "rg = scipy.io.netcdf_file('atmos_mosaic_tile1Xocean_mosaic_tile1.nc','w',version=2) # atmos_mosaic_tile1Xocean_mosaic_tile1.nc\n",
      "rg.createDimension('string',255)\n",
      "rg.createDimension('ncells',ni*nj-nl) # -1 is for a single land point\n",
      "rg.createDimension('two',2)\n",
      "contact = rg.createVariable('contact','c',('string',))\n",
      "contact.standard_name = 'grid_contact_spec'\n",
      "contact.contact_type = 'exchange'\n",
      "contact.parent1_cell = 'tile1_cell'\n",
      "contact.parent2_cell = 'tile2_cell'\n",
      "contact.xgrid_area_field = 'xgrid_area'\n",
      "contact.distant_to_parent1_centroid = 'tile1_distance'\n",
      "contact.distant_to_parent2_centroid = 'tile2_distance'\n",
      "tile1_cell = rg.createVariable('tile1_cell','f8',('ncells','two',))\n",
      "tile1_cell.standard_name = 'parent_cell_indices_in_mosaic1'\n",
      "tile2_cell = rg.createVariable('tile2_cell','f8',('ncells','two',))\n",
      "tile2_cell.standard_name = 'parent_cell_indices_in_mosaic2'\n",
      "xgrid_area = rg.createVariable('xgrid_area','f8',('ncells',))\n",
      "xgrid_area.standard_name = 'exchange_grid_area'\n",
      "xgrid_area.units = 'm2'\n",
      "tile1_distance = rg.createVariable('tile1_distance','f8',('ncells','two'))\n",
      "tile1_distance.standard_name = 'distance_from_parent1_cell_centroid'\n",
      "tile2_distance = rg.createVariable('tile2_distance','f8',('ncells','two'))\n",
      "tile2_distance.standard_name = 'distance_from_parent2_cell_centroid'\n",
      "rg.grid_version = '0.2'\n",
      "# Fill in data\n",
      "contact[:] = '\\000' * 255\n",
      "contact[:37] = 'atmos_mosaic:tile1::land_mosaic:tile1'\n",
      "tile1_cell[:] = [ni,nj]\n",
      "tile2_cell[:] = [ni,nj]\n",
      "xgrid_area[:] = dxo * dyo\n",
      "count=-1\n",
      "for j in range(nj):\n",
      "    for i in range(ni):\n",
      "        if Ocean_Depth[j,i]!=0:\n",
      "            count=count+1\n",
      "            tile1_cell[count] = [i,j]\n",
      "            tile2_cell[count] = [i,j]\n",
      "            tile1_distance[count] = [0,0]\n",
      "            tile2_distance[count] = [0,0]\n",
      "            xgrid_area[count] = dxo * dyo\n",
      "rg.close()"
     ],
     "language": "python",
     "metadata": {},
     "outputs": [],
     "prompt_number": 18
    },
    {
     "cell_type": "code",
     "collapsed": false,
     "input": [
      "rg = scipy.io.netcdf_file('land_mosaic_tile1Xocean_mosaic_tile1.nc','w',version=2) # land_mosaic_tile1Xocean_mosaic_tile1.nc\n",
      "rg.createDimension('string',255)\n",
      "rg.createDimension('ncells',ni*nj-nl) # -1 is for a single land point\n",
      "rg.createDimension('two',2)\n",
      "contact = rg.createVariable('contact','c',('string',))\n",
      "contact.standard_name = 'grid_contact_spec'\n",
      "contact.contact_type = 'exchange'\n",
      "contact.parent1_cell = 'tile1_cell'\n",
      "contact.parent2_cell = 'tile2_cell'\n",
      "contact.xgrid_area_field = 'xgrid_area'\n",
      "contact.distant_to_parent1_centroid = 'tile1_distance'\n",
      "contact.distant_to_parent2_centroid = 'tile2_distance'\n",
      "tile1_cell = rg.createVariable('tile1_cell','f8',('ncells','two',))\n",
      "tile1_cell.standard_name = 'parent_cell_indices_in_mosaic1'\n",
      "tile2_cell = rg.createVariable('tile2_cell','f8',('ncells','two',))\n",
      "tile2_cell.standard_name = 'parent_cell_indices_in_mosaic2'\n",
      "xgrid_area = rg.createVariable('xgrid_area','f8',('ncells',))\n",
      "xgrid_area.standard_name = 'exchange_grid_area'\n",
      "xgrid_area.units = 'm2'\n",
      "tile1_distance = rg.createVariable('tile1_distance','f8',('ncells','two'))\n",
      "tile1_distance.standard_name = 'distance_from_parent1_cell_centroid'\n",
      "tile2_distance = rg.createVariable('tile2_distance','f8',('ncells','two'))\n",
      "tile2_distance.standard_name = 'distance_from_parent2_cell_centroid'\n",
      "rg.grid_version = '0.2'\n",
      "# Fill in data\n",
      "contact[:] = '\\000' * 255\n",
      "contact[:37] = 'atmos_mosaic:tile1::land_mosaic:tile1'\n",
      "tile1_cell[:] = [ni,nj]\n",
      "tile2_cell[:] = [ni,nj]\n",
      "xgrid_area[:] = dxo * dyo\n",
      "count=-1\n",
      "for j in range(nj):\n",
      "    for i in range(ni):\n",
      "        if Ocean_Depth[j,i]!=0:\n",
      "            count=count+1\n",
      "            tile1_cell[count] = [i,j]\n",
      "            tile2_cell[count] = [i,j]\n",
      "            tile1_distance[count] = [0,0]\n",
      "            tile2_distance[count] = [0,0]\n",
      "            xgrid_area[count] = dxo * dyo\n",
      "rg.close()"
     ],
     "language": "python",
     "metadata": {},
     "outputs": [],
     "prompt_number": 19
    },
    {
     "cell_type": "code",
     "collapsed": false,
     "input": [
      "rg = scipy.io.netcdf_file('mosaic.nc','w',version=2) # land_mosaic_tile1Xocean_mosaic_tile1.nc\n",
      "rg.createDimension('string',255)\n",
      "rg.createDimension('nfile_aXo',1) # -1 is for a single land point\n",
      "rg.createDimension('nfile_aXl',1) # -1 is for a single land point\n",
      "rg.createDimension('nfile_lXo',1) # -1 is for a single land point\n",
      "\n",
      "atm_mosaic_dir = rg.createVariable('atm_mosaic_dir','c',('string',))\n",
      "atm_mosaic_dir.standard_name = 'directory_storing_atmosphere_mosaic'\n",
      "\n",
      "atm_mosaic_file = rg.createVariable('atm_mosaic_file','c',('string',))\n",
      "atm_mosaic_file.standard_name = 'atmosphere_mosaic_file_name'\n",
      "\n",
      "atm_mosaic = rg.createVariable('atm_mosaic','c',('string',))\n",
      "atm_mosaic.standard_name = 'atmosphere_mosaic_name'\n",
      "\n",
      "lnd_mosaic_dir = rg.createVariable('lnd_mosaic_dir','c',('string',))\n",
      "lnd_mosaic_dir.standard_name = 'directory_storing_land_mosaic'\n",
      "\n",
      "lnd_mosaic_file = rg.createVariable('lnd_mosaic_file','c',('string',))\n",
      "lnd_mosaic_file.standard_name = 'land_mosaic_file_name'\n",
      "\n",
      "lnd_mosaic = rg.createVariable('lnd_mosaic','c',('string',))\n",
      "lnd_mosaic.standard_name = 'land_mosaic_name'\n",
      "\n",
      "ocn_mosaic_dir = rg.createVariable('ocn_mosaic_dir','c',('string',))\n",
      "ocn_mosaic_dir.standard_name = 'directory_storing_ocean_mosaic'\n",
      "\n",
      "ocn_mosaic_file = rg.createVariable('ocn_mosaic_file','c',('string',))\n",
      "ocn_mosaic_file.standard_name = 'ocean_mosaic_file_name'\n",
      "\n",
      "ocn_mosaic = rg.createVariable('ocn_mosaic','c',('string',))\n",
      "ocn_mosaic.standard_name = 'ocean_mosaic_name'\n",
      "\n",
      "\n",
      "ocn_topog_dir = rg.createVariable('ocn_topog_dir','c',('string',))\n",
      "ocn_mosaic_dir.standard_name = 'directory_storing_ocean_topog'\n",
      "\n",
      "ocn_topog_file = rg.createVariable('ocn_topog_file','c',('string',))\n",
      "ocn_topog_file.standard_name = 'ocean_topog_file_name'\n",
      "\n",
      "aXo_file = rg.createVariable('aXo_file','c',('nfile_aXo','string',))\n",
      "aXo_file.standard_name = 'atmXocn_exchange_grid_file'\n",
      "\n",
      "aXl_file = rg.createVariable('aXl_file','c',('nfile_aXl','string',))\n",
      "aXl_file.standard_name = 'atmXlnd_exchange_grid_file'\n",
      "\n",
      "lXo_file = rg.createVariable('lXo_file','c',('nfile_lXo','string',))\n",
      "lXo_file.standard_name = 'lndXocn_exchange_grid_file'\n",
      "\n",
      "#Global attributes\n",
      "rg.grid_version = '0.2'\n",
      "rg.code_version = \"$Name:  $\"\n",
      "rg.history = \"/net2/aja/workspace/MOM6-examples/ice_ocean_SIS2/OM4_025/preprocessing/fre_nctools/tools/make_quick_mosaic/make_quick_mosaic --input_mosaic ocean_mosaic.nc --ocean_topog ocean_topog.nc\"\n",
      "# Fill in data\n",
      "atm_mosaic_dir[:] = '\\000' * 255\n",
      "atm_mosaic_dir[:2] = './'\n",
      "\n",
      "atm_mosaic_file[:] = '\\000' * 255\n",
      "atm_mosaic_file[:15] = 'ocean_mosaic.nc'\n",
      "\n",
      "atm_mosaic[:] = '\\000' * 255\n",
      "atm_mosaic[:12] = 'atmos_mosaic'\n",
      "\n",
      "lnd_mosaic_dir[:] = '\\000' * 255\n",
      "lnd_mosaic_dir[:2] = './'\n",
      "\n",
      "lnd_mosaic_file[:] = '\\000' * 255\n",
      "lnd_mosaic_file[:15] = 'ocean_mosaic.nc'\n",
      "\n",
      "lnd_mosaic[:] = '\\000' * 255\n",
      "lnd_mosaic[:11] = 'land_mosaic'\n",
      "\n",
      "ocn_mosaic_dir[:] = '\\000' * 255\n",
      "ocn_mosaic_dir[:2] = './'\n",
      "\n",
      "ocn_mosaic_file[:] = '\\000' * 255\n",
      "ocn_mosaic_file[:15] = 'ocean_mosaic.nc'\n",
      "\n",
      "ocn_mosaic[:] = '\\000' * 255\n",
      "ocn_mosaic[:12] = 'ocean_mosaic'\n",
      "\n",
      "ocn_topog_dir[:] = '\\000' * 255\n",
      "ocn_topog_dir[:2] = './'\n",
      "\n",
      "ocn_topog_file[:] = '\\000' * 255\n",
      "ocn_topog_file[:14] = 'ocean_topog.nc'\n",
      "\n",
      "aXo_file[:,:] = '\\000' * 255\n",
      "aXo_file[:,:40] = 'atmos_mosaic_tile1Xocean_mosaic_tile1.nc'\n",
      "\n",
      "aXl_file[:,:] = '\\000' * 255\n",
      "aXl_file[:,:39] = 'atmos_mosaic_tile1Xland_mosaic_tile1.nc'\n",
      "\n",
      "lXo_file[:,:] = '\\000' * 255\n",
      "lXo_file[:,:39] = 'land_mosaic_tile1Xocean_mosaic_tile1.nc'\n",
      "\n",
      "rg.close()\n",
      "\n"
     ],
     "language": "python",
     "metadata": {},
     "outputs": [],
     "prompt_number": 20
    },
    {
     "cell_type": "code",
     "collapsed": false,
     "input": [],
     "language": "python",
     "metadata": {},
     "outputs": [],
     "prompt_number": 20
    },
    {
     "cell_type": "code",
     "collapsed": false,
     "input": [],
     "language": "python",
     "metadata": {},
     "outputs": [],
     "prompt_number": 20
    },
    {
     "cell_type": "code",
     "collapsed": false,
     "input": [],
     "language": "python",
     "metadata": {},
     "outputs": [],
     "prompt_number": 20
    },
    {
     "cell_type": "code",
     "collapsed": false,
     "input": [],
     "language": "python",
     "metadata": {},
     "outputs": [],
     "prompt_number": 20
    },
    {
     "cell_type": "code",
     "collapsed": false,
     "input": [],
     "language": "python",
     "metadata": {},
     "outputs": [],
     "prompt_number": 20
    },
    {
     "cell_type": "code",
     "collapsed": false,
     "input": [],
     "language": "python",
     "metadata": {},
     "outputs": [],
     "prompt_number": 20
    }
   ],
   "metadata": {}
  }
 ]
}